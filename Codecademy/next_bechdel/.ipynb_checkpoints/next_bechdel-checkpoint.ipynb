{
 "cells": [
  {
   "cell_type": "markdown",
   "metadata": {},
   "source": [
    "# Project: Visualizing Race and Gender Representation In American Movies\n",
    "\n",
    "In this project you'll use data visualization techniques to analyze how the top 50 movies of 2016 performed according to the <a href = \"https://en.wikipedia.org/wiki/Bechdel_test\" target=\"_blank\"> Bechdel Test </a>and other representation-based tests. \n",
    "\n",
    "**The Bechdel-Wallace Test** — often abbreviated to the \"Bechdel Test\" — evaluates movies based on two simple questions:\n",
    "\n",
    "  1.  Does the movie have at least two named female characters?\n",
    "  2.  And do those characters have at least one conversation that is not about a man?\n",
    "\n",
    "To perform your visualization, you'll use a dataset called  \"The Next Bechdel Test\" from <a href=\"https://www.fivethirtyeight.com\" target=\"_blank\">fivethirtyeight.com</a>. You can read more about the dataset at the following link:\n",
    "\n",
    "<a href = \"https://projects.fivethirtyeight.com/next-bechdel/\" target=\"_blank\">The Next Bechdel Test </a>\n",
    "\n",
    "\n",
    "  \n",
    "In addition to results of the Bechdel test, this dataset includes the results of similar representation tests developed by members of the movie industry and evaluated by <a href = \"http://fivethirtyeight.com\" target=\"_blank\">fivethirtyeight.com. </a>\n",
    "\n",
    "**The Waithe Test** (Lena Waithe)\n",
    "\n",
    "A movie passes if:\n",
    "- There's a black woman in the work\n",
    "- Who's in a position of power\n",
    "- And she's in a healthy relationship\n",
    "\n",
    "**The Ko Test** (Naomi Ko)\n",
    "\n",
    "A movie passes if:\n",
    "- There's a non-white, female-identifying person in the film\n",
    "- Who speaks in five or more scenes\n",
    "- And speaks english\n"
   ]
  },
  {
   "cell_type": "markdown",
   "metadata": {},
   "source": [
    "## 1. SETUP"
   ]
  },
  {
   "cell_type": "markdown",
   "metadata": {},
   "source": [
    "Import matplotlib.pyplot as plt and pandas as pd."
   ]
  },
  {
   "cell_type": "code",
   "execution_count": 17,
   "metadata": {},
   "outputs": [],
   "source": [
    "import matplotlib.pyplot as plt \n",
    "import pandas as pd"
   ]
  },
  {
   "cell_type": "markdown",
   "metadata": {},
   "source": [
    "Use Pandas `pd.read_csv()` to load the dataset **bechdelExpanded.csv** into a DataFrame and save the results to a variable. You can name the variable anything you like. `df` is often used as the variable name for a DataFrame."
   ]
  },
  {
   "cell_type": "code",
   "execution_count": 18,
   "metadata": {},
   "outputs": [],
   "source": [
    "df=pd.DataFrame(pd.read_csv(\"bechdelExpanded.csv\"))"
   ]
  },
  {
   "cell_type": "markdown",
   "metadata": {},
   "source": [
    "## 2. Learn About Your Data"
   ]
  },
  {
   "cell_type": "markdown",
   "metadata": {},
   "source": [
    "Inspect the DataFrame using `.head()`"
   ]
  },
  {
   "cell_type": "markdown",
   "metadata": {},
   "source": [
    "The first column in the dataset is the name of a movie. Each column that follows represents one of the tests being applied to each movie. Each row represents whether that movie passed, or failed each test. A `1` represents a passing score, and a `0` represents a failing score."
   ]
  },
  {
   "cell_type": "code",
   "execution_count": 19,
   "metadata": {},
   "outputs": [
    {
     "name": "stdout",
     "output_type": "stream",
     "text": [
      "                          movie  bechdel  peirce  landau  feldman  villareal  \\\n",
      "0                      Bad Moms        0       0       0        1          0   \n",
      "1                Hidden Figures        1       0       0        0          0   \n",
      "2  Independence Day: Resurgence        0       0       1        0          0   \n",
      "3                  Finding Dory        0       0       1        0          0   \n",
      "4                  Ghostbusters        0       0       0        0          0   \n",
      "\n",
      "   hagen  ko  villarobos  waithe  koeze_dottle  uphold  white  rees-davies  \n",
      "0      0   0           1       0             0       1      1            1  \n",
      "1      1   1           1       1             1       1      1            1  \n",
      "2      1   0           1       0             0       1      1            1  \n",
      "3      0   1           1       1             1       1      1            0  \n",
      "4      1   0           1       1             1       1      1            1  \n"
     ]
    }
   ],
   "source": [
    "print(df.head())"
   ]
  },
  {
   "cell_type": "markdown",
   "metadata": {},
   "source": [
    "Call `.info()` on your DataFrame and print the result. This will display a summary of the basic information about your DataFrame and its data."
   ]
  },
  {
   "cell_type": "code",
   "execution_count": 20,
   "metadata": {},
   "outputs": [
    {
     "name": "stdout",
     "output_type": "stream",
     "text": [
      "<class 'pandas.core.frame.DataFrame'>\n",
      "RangeIndex: 50 entries, 0 to 49\n",
      "Data columns (total 14 columns):\n",
      " #   Column        Non-Null Count  Dtype \n",
      "---  ------        --------------  ----- \n",
      " 0   movie         50 non-null     object\n",
      " 1   bechdel       50 non-null     int64 \n",
      " 2   peirce        50 non-null     int64 \n",
      " 3   landau        50 non-null     int64 \n",
      " 4   feldman       50 non-null     int64 \n",
      " 5   villareal     50 non-null     int64 \n",
      " 6   hagen         50 non-null     int64 \n",
      " 7   ko            50 non-null     int64 \n",
      " 8   villarobos    50 non-null     int64 \n",
      " 9   waithe        50 non-null     int64 \n",
      " 10  koeze_dottle  50 non-null     int64 \n",
      " 11  uphold        50 non-null     int64 \n",
      " 12  white         50 non-null     int64 \n",
      " 13  rees-davies   50 non-null     int64 \n",
      "dtypes: int64(13), object(1)\n",
      "memory usage: 5.3+ KB\n",
      "None\n"
     ]
    }
   ],
   "source": [
    "print(df.info())"
   ]
  },
  {
   "cell_type": "markdown",
   "metadata": {},
   "source": [
    "## 3. Data Manipulation\n",
    "Create a column for total_score and set the value of each of its entries equal to the sum of the three columns: bechdel, waithe, ko. This will give us the total score each movie received based on these three tests."
   ]
  },
  {
   "cell_type": "code",
   "execution_count": 21,
   "metadata": {},
   "outputs": [],
   "source": [
    "df[\"total_score\"]=df.bechdel+df.waithe+df.ko"
   ]
  },
  {
   "cell_type": "markdown",
   "metadata": {},
   "source": [
    "Check your DataFrame again with `.head()` to see the new column."
   ]
  },
  {
   "cell_type": "code",
   "execution_count": 22,
   "metadata": {},
   "outputs": [
    {
     "name": "stdout",
     "output_type": "stream",
     "text": [
      "                          movie  bechdel  peirce  landau  feldman  villareal  \\\n",
      "0                      Bad Moms        0       0       0        1          0   \n",
      "1                Hidden Figures        1       0       0        0          0   \n",
      "2  Independence Day: Resurgence        0       0       1        0          0   \n",
      "3                  Finding Dory        0       0       1        0          0   \n",
      "4                  Ghostbusters        0       0       0        0          0   \n",
      "\n",
      "   hagen  ko  villarobos  waithe  koeze_dottle  uphold  white  rees-davies  \\\n",
      "0      0   0           1       0             0       1      1            1   \n",
      "1      1   1           1       1             1       1      1            1   \n",
      "2      1   0           1       0             0       1      1            1   \n",
      "3      0   1           1       1             1       1      1            0   \n",
      "4      1   0           1       1             1       1      1            1   \n",
      "\n",
      "   total_score  \n",
      "0            0  \n",
      "1            3  \n",
      "2            0  \n",
      "3            2  \n",
      "4            1  \n"
     ]
    }
   ],
   "source": [
    "print(df.head())"
   ]
  },
  {
   "cell_type": "markdown",
   "metadata": {},
   "source": [
    "## 4. Sorting Data"
   ]
  },
  {
   "cell_type": "markdown",
   "metadata": {},
   "source": [
    "It will be easier to visualize our data if it is organized by each movie's total score.  \n",
    "\n",
    "Using Pandas `.sort_values()`, create a new DataFrame called `df_sorted` that is a copy of your current DataFrame, sorted by `total_score`. Make sure to reset the index of the new DataFrame using `.reset_index(drop = True)`."
   ]
  },
  {
   "cell_type": "markdown",
   "metadata": {},
   "source": [
    "Hint: The syntax for sorting by a column in Pandas is:\n",
    "`df.sort_values(\"column_name\").reset_index(drop = True)`"
   ]
  },
  {
   "cell_type": "code",
   "execution_count": 23,
   "metadata": {},
   "outputs": [],
   "source": [
    "df_sorted=df.sort_values(\"total_score\").reset_index(drop=True)"
   ]
  },
  {
   "cell_type": "markdown",
   "metadata": {},
   "source": [
    "Use .head() to check your new `df_sorted` DataFrame."
   ]
  },
  {
   "cell_type": "code",
   "execution_count": 24,
   "metadata": {},
   "outputs": [
    {
     "name": "stdout",
     "output_type": "stream",
     "text": [
      "                                               movie  bechdel  peirce  landau  \\\n",
      "0                                           Bad Moms        0       0       0   \n",
      "1                       Independence Day: Resurgence        0       0       1   \n",
      "2                             Boo! A Madea Halloween        0       0       1   \n",
      "3                               Central Intelligence        1       0       1   \n",
      "4                                      Suicide Squad        0       0       1   \n",
      "5                                      Sausage Party        0       0       1   \n",
      "6            Fantastic Beasts and Where to Find Them        0       0       1   \n",
      "7                                               Sing        0       0       1   \n",
      "8                           The Purge: Election Year        0       0       1   \n",
      "9                          Ice Age: Collision Course        0       1       0   \n",
      "10                                         Allegiant        0       0       1   \n",
      "11                                   Kung Fu Panda 3        0       1       0   \n",
      "12                                      Ghostbusters        0       0       0   \n",
      "13       Miss Peregrine's Home for Peculiar Children        0       0       0   \n",
      "14  Teenage Mutant Ninja Turtles: Out of the Shadows        0       1       0   \n",
      "15                                          Zootopia        0       0       1   \n",
      "16                                  Star Trek Beyond        1       0       1   \n",
      "17                                      Ride Along 2        1       0       0   \n",
      "18                                        Lights Out        0       0       1   \n",
      "19                                         Rogue One        0       0       1   \n",
      "20                                     Don't Breathe        0       0       1   \n",
      "21                        Captain America: Civil War        0       0       1   \n",
      "22                                    The Accountant        1       0       1   \n",
      "23                               10 Cloverfield Lane        0       0       1   \n",
      "24                                 X-Men: Apocalypse        0       0       0   \n",
      "25                                   The Jungle Book        1       1       0   \n",
      "26                                   The Conjuring 2        0       0       1   \n",
      "27                                      Finding Dory        0       0       1   \n",
      "28                                     Pete's Dragon        0       1       1   \n",
      "29                                  Now You See Me 2        1       0       0   \n",
      "30                                        La La Land        0       0       1   \n",
      "31                   Alice Through the Looking Glass        0       0       1   \n",
      "32                                           Arrival        0       0       1   \n",
      "33                             The Girl on the Train        0       0       1   \n",
      "34                                          The Boss        0       0       0   \n",
      "35                             The Angry Birds Movie        1       1       0   \n",
      "36                                            Trolls        0       0       1   \n",
      "37                              The Legend of Tarzan        1       0       1   \n",
      "38                                          Deadpool        1       1       1   \n",
      "39                                      Jason Bourne        1       0       1   \n",
      "40                                    Hidden Figures        1       0       0   \n",
      "41                                             Sully        1       1       0   \n",
      "42                                             Moana        1       0       1   \n",
      "43                                     Hacksaw Ridge        1       1       0   \n",
      "44                Batman v Superman: Dawn of Justice        1       0       1   \n",
      "45                                    Doctor Strange        1       1       1   \n",
      "46                                            Storks        1       0       1   \n",
      "47                                        Passengers        1       0       0   \n",
      "48                             The Magnificent Seven        1       0       0   \n",
      "49                           The Secret Life of Pets        1       0       1   \n",
      "\n",
      "    feldman  villareal  hagen  ko  villarobos  waithe  koeze_dottle  uphold  \\\n",
      "0         1          0      0   0           1       0             0       1   \n",
      "1         0          0      1   0           1       0             0       1   \n",
      "2         1          1      1   0           1       0             0       1   \n",
      "3         1          1      1   0           1       0             1       1   \n",
      "4         1          1      1   0           1       1             1       1   \n",
      "5         1          1      1   0           1       1             1       1   \n",
      "6         1          0      1   0           1       1             1       1   \n",
      "7         1          1      1   0           1       1             0       1   \n",
      "8         1          0      1   0           1       1             1       1   \n",
      "9         1          1      1   0           1       1             0       1   \n",
      "10        0          0      1   0           1       1             1       1   \n",
      "11        0          1      1   0           1       1             1       1   \n",
      "12        0          0      1   0           1       1             1       1   \n",
      "13        0          0      1   1           1       1             1       1   \n",
      "14        1          0      1   1           1       1             1       1   \n",
      "15        1          0      1   1           1       1             1       1   \n",
      "16        1          1      1   0           1       1             1       1   \n",
      "17        1          1      1   0           1       1             1       1   \n",
      "18        1          1      1   1           1       1             0       1   \n",
      "19        1          1      1   1           1       1             1       1   \n",
      "20        1          1      1   1           1       1             0       1   \n",
      "21        1          1      1   1           1       1             1       1   \n",
      "22        1          1      1   0           1       1             1       1   \n",
      "23        1          0      1   1           1       1             1       1   \n",
      "24        1          0      1   1           1       1             1       1   \n",
      "25        1          1      1   0           1       1             1       1   \n",
      "26        1          0      1   1           1       1             0       1   \n",
      "27        0          0      0   1           1       1             1       1   \n",
      "28        0          0      1   1           1       1             1       1   \n",
      "29        1          0      1   0           1       1             1       1   \n",
      "30        1          0      1   1           1       1             0       1   \n",
      "31        0          1      1   1           1       1             1       1   \n",
      "32        0          0      1   1           1       1             0       1   \n",
      "33        0          0      1   1           1       1             0       1   \n",
      "34        0          1      1   1           1       1             0       1   \n",
      "35        1          0      1   0           1       1             1       1   \n",
      "36        1          1      1   1           1       1             0       1   \n",
      "37        1          0      1   1           1       1             1       1   \n",
      "38        1          1      1   1           1       1             0       1   \n",
      "39        1          1      1   1           1       1             1       1   \n",
      "40        0          0      1   1           1       1             1       1   \n",
      "41        1          0      1   1           1       1             0       1   \n",
      "42        1          1      1   1           1       1             1       1   \n",
      "43        1          0      1   1           1       1             1       1   \n",
      "44        1          0      1   1           1       1             1       1   \n",
      "45        1          1      1   1           1       1             1       1   \n",
      "46        1          0      1   1           1       1             0       1   \n",
      "47        1          0      1   1           1       1             0       1   \n",
      "48        1          0      1   1           1       1             1       1   \n",
      "49        1          1      1   1           1       1             1       1   \n",
      "\n",
      "    white  rees-davies  total_score  \n",
      "0       1            1            0  \n",
      "1       1            1            0  \n",
      "2       1            1            0  \n",
      "3       1            1            1  \n",
      "4       1            0            1  \n",
      "5       1            0            1  \n",
      "6       1            1            1  \n",
      "7       1            0            1  \n",
      "8       1            1            1  \n",
      "9       1            0            1  \n",
      "10      1            1            1  \n",
      "11      1            0            1  \n",
      "12      1            1            1  \n",
      "13      1            1            2  \n",
      "14      1            1            2  \n",
      "15      1            1            2  \n",
      "16      1            0            2  \n",
      "17      1            1            2  \n",
      "18      1            1            2  \n",
      "19      1            1            2  \n",
      "20      1            1            2  \n",
      "21      1            0            2  \n",
      "22      1            1            2  \n",
      "23      1            1            2  \n",
      "24      1            1            2  \n",
      "25      1            1            2  \n",
      "26      1            1            2  \n",
      "27      1            0            2  \n",
      "28      1            0            2  \n",
      "29      1            1            2  \n",
      "30      1            1            2  \n",
      "31      1            0            2  \n",
      "32      1            1            2  \n",
      "33      1            1            2  \n",
      "34      1            1            2  \n",
      "35      1            1            2  \n",
      "36      1            1            2  \n",
      "37      1            1            3  \n",
      "38      1            1            3  \n",
      "39      1            0            3  \n",
      "40      1            1            3  \n",
      "41      1            1            3  \n",
      "42      1            1            3  \n",
      "43      1            0            3  \n",
      "44      1            0            3  \n",
      "45      1            0            3  \n",
      "46      1            0            3  \n",
      "47      1            1            3  \n",
      "48      1            1            3  \n",
      "49      1            1            3  \n"
     ]
    }
   ],
   "source": [
    "print(df_sorted)"
   ]
  },
  {
   "cell_type": "markdown",
   "metadata": {},
   "source": [
    "## 5. Isolating the Data\n",
    "For this project, we have selected three of the representation tests to focus on. To make it easier for us to look at the relevant data, create a new DataFrame containing only the columns 'movie', 'bechdel', 'waithe', 'ko', 'total_score' from the `df_sorted` DataFrame."
   ]
  },
  {
   "cell_type": "code",
   "execution_count": 25,
   "metadata": {},
   "outputs": [],
   "source": [
    "new_df=df_sorted[[\"movie\",\"bechdel\", \"waithe\", \"ko\", \"total_score\"]]"
   ]
  },
  {
   "cell_type": "markdown",
   "metadata": {},
   "source": [
    "Use .head() to check the new DataFrame."
   ]
  },
  {
   "cell_type": "code",
   "execution_count": 26,
   "metadata": {},
   "outputs": [
    {
     "name": "stdout",
     "output_type": "stream",
     "text": [
      "                          movie  bechdel  waithe  ko  total_score\n",
      "0                      Bad Moms        0       0   0            0\n",
      "1  Independence Day: Resurgence        0       0   0            0\n",
      "2        Boo! A Madea Halloween        0       0   0            0\n",
      "3          Central Intelligence        1       0   0            1\n",
      "4                 Suicide Squad        0       1   0            1\n"
     ]
    }
   ],
   "source": [
    "print(new_df.head())"
   ]
  },
  {
   "cell_type": "markdown",
   "metadata": {},
   "source": [
    "## 6. Plot DataFrame with Matplotlib\n"
   ]
  },
  {
   "cell_type": "markdown",
   "metadata": {},
   "source": [
    "Next,  use Pandas to create a new DataFrame using only the data you want to use in a plot. Then, create a bar chart with that data using Matplotlib.\n",
    "\n",
    "\n",
    "**6.A**\n",
    "\n",
    "Using `[[]]` notation, select the columns `movie` and `total_score` from the DataFrame `df_partial`, then using `.set_index()`, set the `index` to the columns `movie`, and save it all to a variable named `ax`.\n"
   ]
  },
  {
   "cell_type": "code",
   "execution_count": 29,
   "metadata": {},
   "outputs": [],
   "source": [
    "ax=new_df[[\"movie\", \"total_score\"]].set_index(\"movie\")"
   ]
  },
  {
   "cell_type": "markdown",
   "metadata": {},
   "source": [
    "**6.B**\n",
    "\n",
    "Create a plot of the `ax` DataFrame with the Matplotlib method `.plot()`. Include the following arguments inside of `.plot()` . You can change these on your own and run the plot again if you would like.\n",
    "- `kind = 'bar'`\n",
    "- `title ='Representation In Movies'`\n",
    "- `figsize=(15, 10)`\n",
    "- `legend=True`\n"
   ]
  },
  {
   "cell_type": "code",
   "execution_count": 34,
   "metadata": {},
   "outputs": [
    {
     "data": {
      "text/plain": [
       "<matplotlib.axes._subplots.AxesSubplot at 0x4fcdd18>"
      ]
     },
     "execution_count": 34,
     "metadata": {},
     "output_type": "execute_result"
    },
    {
     "data": {
      "image/png": "[encoded data removed]",
      "text/plain": [
       "<Figure size 1080x720 with 1 Axes>"
      ]
     },
     "metadata": {
      "needs_background": "light"
     },
     "output_type": "display_data"
    }
   ],
   "source": [
    "ax.plot(kind=\"bar\", title=\"Representation In Movies\", figsize=(15,10), legend=True)"
   ]
  },
  {
   "cell_type": "markdown",
   "metadata": {},
   "source": [
    "## 7. Iterate and Discover Meaning"
   ]
  },
  {
   "cell_type": "markdown",
   "metadata": {},
   "source": [
    "There are many aspects of a Matplotlib plot that can be customized to make it easier to visualize data. Try a few of them below:\n",
    "\n",
    "Set the `kind` argument of `.plot()` to `barh` to make the plot a horizontal bar chart.\n",
    "\n",
    "Add the following argument to `.plot()` so it is easier to see the names of each movie: `fontsize=12`.\n",
    "\n",
    "Make the visualization taller, and even the spread by changing the figsize argument to `figsize=(15, 15)`."
   ]
  },
  {
   "cell_type": "code",
   "execution_count": null,
   "metadata": {},
   "outputs": [],
   "source": []
  },
  {
   "cell_type": "markdown",
   "metadata": {},
   "source": [
    "## You're done! \n",
    "\n",
    "Feel free to use this notebook to continue experimenting. "
   ]
  },
  {
   "cell_type": "markdown",
   "metadata": {},
   "source": [
    "---"
   ]
  }
 ],
 "metadata": {
  "kernelspec": {
   "display_name": "Python 3",
   "language": "python",
   "name": "python3"
  },
  "language_info": {
   "codemirror_mode": {
    "name": "ipython",
    "version": 3
   },
   "file_extension": ".py",
   "mimetype": "text/x-python",
   "name": "python",
   "nbconvert_exporter": "python",
   "pygments_lexer": "ipython3",
   "version": "3.8.3"
  }
 },
 "nbformat": 4,
 "nbformat_minor": 2
}
